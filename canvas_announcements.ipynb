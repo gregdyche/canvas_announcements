{
 "cells": [
  {
   "cell_type": "code",
   "execution_count": 3,
   "id": "57c06a3b",
   "metadata": {},
   "outputs": [],
   "source": [
    "from canvasapi import Canvas\n",
    "from credentials import API_URL, API_KEY"
   ]
  },
  {
   "cell_type": "code",
   "execution_count": 4,
   "id": "ee76325d",
   "metadata": {},
   "outputs": [],
   "source": [
    "canvas = Canvas(API_URL, API_KEY)"
   ]
  },
  {
   "cell_type": "code",
   "execution_count": 7,
   "id": "e219effa",
   "metadata": {},
   "outputs": [],
   "source": [
    "def announce(course_ids):\n",
    "    # Loop through each course and create an announcement\n",
    "    for course_id in course_ids:\n",
    "        course = canvas.get_course(course_id)\n",
    "\n",
    "        # Create an announcement for each course\n",
    "        announcement = course.create_discussion_topic(\n",
    "            title=\"Test Update\",\n",
    "            message=\"This is a test announcement. Please ignore\",\n",
    "            is_announcement=True,\n",
    "            published=True\n",
    "        )\n",
    "\n",
    "        print(f\"Announcement '{announcement.title}' has been published in course ID {course_id}.\")\n"
   ]
  },
  {
   "cell_type": "code",
   "execution_count": 9,
   "id": "36b4896f",
   "metadata": {},
   "outputs": [
    {
     "name": "stdout",
     "output_type": "stream",
     "text": [
      "Announcement 'Test Update' has been published in course ID 1194708.\n",
      "Announcement 'Test Update' has been published in course ID 1194725.\n"
     ]
    }
   ],
   "source": [
    "if __name__ == \"__main__\":\n",
    "    \n",
    "    course_ids = [1194708, 1194725]  # AB and EF course ids\n",
    "    #course_ids = [1199457]\n",
    "    announce(course_ids)"
   ]
  },
  {
   "cell_type": "code",
   "execution_count": null,
   "id": "909132df",
   "metadata": {},
   "outputs": [],
   "source": []
  }
 ],
 "metadata": {
  "kernelspec": {
   "display_name": "Python 3 (ipykernel)",
   "language": "python",
   "name": "python3"
  },
  "language_info": {
   "codemirror_mode": {
    "name": "ipython",
    "version": 3
   },
   "file_extension": ".py",
   "mimetype": "text/x-python",
   "name": "python",
   "nbconvert_exporter": "python",
   "pygments_lexer": "ipython3",
   "version": "3.9.17"
  }
 },
 "nbformat": 4,
 "nbformat_minor": 5
}
